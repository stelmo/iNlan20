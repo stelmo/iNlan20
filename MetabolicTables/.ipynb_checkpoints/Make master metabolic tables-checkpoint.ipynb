{
 "cells": [
  {
   "cell_type": "markdown",
   "metadata": {},
   "source": [
    "# Make master metabolic tables\n",
    "This notebook can be used to create the metabolic tables of each gut fungus (used to assign gene reaction rules).\n",
    "This matches genes to annotation data. The output is {fungus short name}.tab"
   ]
  },
  {
   "cell_type": "markdown",
   "metadata": {},
   "source": [
    "| Fungus name | Short name |\n",
    "| --- | --- |\n",
    "|Neocallimastix lanati | Neosp3 |\n",
    "|Neocallimastix californiae | Neosp1 |\n",
    "|Piromyces finnis | Pirfi3 |\n",
    "|Anaeromyces robustus | Anasp1 |\n",
    "|Piromyces sp. E2 | PirE2 |"
   ]
  },
  {
   "cell_type": "code",
   "execution_count": 1,
   "metadata": {},
   "outputs": [],
   "source": [
    "include(joinpath(\"..\", \"src\", \"GSM.jl\"))\n",
    "import .GSM\n",
    "using BioSequences"
   ]
  },
  {
   "cell_type": "code",
   "execution_count": 2,
   "metadata": {},
   "outputs": [
    {
     "data": {
      "text/plain": [
       "Dict{Any,Any} with 562755 entries:\n",
       "  \"Q58660\" => SubString{String}[\"Q58660\", \"6.3.5.3\", \"SUBUNIT: Monomer. Part of…\n",
       "  \"P67952\" => SubString{String}[\"P67952\", \"\", \"\"]\n",
       "  \"B4TRK5\" => SubString{String}[\"B4TRK5\", \"1.7.2.2\", \"\"]\n",
       "  \"P45552\" => SubString{String}[\"P45552\", \"\", \"\"]\n",
       "  \"Q6GIH2\" => SubString{String}[\"Q6GIH2\", \"2.8.1.7\", \"\"]\n",
       "  \"Q72HP1\" => SubString{String}[\"Q72HP1\", \"2.8.1.4\", \"\"]\n",
       "  \"P30085\" => SubString{String}[\"P30085\", \"2.7.4.14; 2.7.4.6\", \"SUBUNIT: Monome…\n",
       "  \"Q28UW7\" => SubString{String}[\"Q28UW7\", \"\", \"SUBUNIT: Monomer. {ECO:0000255|H…\n",
       "  \"Q6CG11\" => SubString{String}[\"Q6CG11\", \"2.7.1.26\", \"\"]\n",
       "  \"Q0KD78\" => SubString{String}[\"Q0KD78\", \"\", \"\"]\n",
       "  \"P17121\" => SubString{String}[\"P17121\", \"\", \"\"]\n",
       "  \"Q0CIL2\" => SubString{String}[\"Q0CIL2\", \"2.7.1.17\", \"\"]\n",
       "  \"C5BF12\" => SubString{String}[\"C5BF12\", \"1.1.1.25\", \"SUBUNIT: Homodimer. {ECO…\n",
       "  \"Q3KFR5\" => SubString{String}[\"Q3KFR5\", \"2.4.2.21\", \"\"]\n",
       "  \"Q1LZF3\" => SubString{String}[\"Q1LZF3\", \"\", \"\"]\n",
       "  \"B1IGZ7\" => SubString{String}[\"B1IGZ7\", \"3.1.1.29\", \"SUBUNIT: Monomer. {ECO:0…\n",
       "  \"C3LQ01\" => SubString{String}[\"C3LQ01\", \"1.1.1.86\", \"\"]\n",
       "  \"C3PGJ7\" => SubString{String}[\"C3PGJ7\", \"\", \"\"]\n",
       "  \"A5CS59\" => SubString{String}[\"A5CS59\", \"2.1.1.199\", \"\"]\n",
       "  \"Q8CP87\" => SubString{String}[\"Q8CP87\", \"\", \"\"]\n",
       "  \"B2S959\" => SubString{String}[\"B2S959\", \"2.1.1.170\", \"\"]\n",
       "  \"Q9BQ89\" => SubString{String}[\"Q9BQ89\", \"\", \"SUBUNIT: May interact with CSPP1…\n",
       "  \"A7TI92\" => SubString{String}[\"A7TI92\", \"\", \"SUBUNIT: Interacts with RIP1. {E…\n",
       "  \"A9GC83\" => SubString{String}[\"A9GC83\", \"3.6.1.27\", \"\"]\n",
       "  \"Q55DK2\" => SubString{String}[\"Q55DK2\", \"2.7.11.1\", \"\"]\n",
       "  ⋮        => ⋮"
      ]
     },
     "execution_count": 2,
     "metadata": {},
     "output_type": "execute_result"
    }
   ],
   "source": [
    "uniprotbase = joinpath(\"..\", \"OmicsData\", \"Uniprot\") # assign locations\n",
    "genomicsbase = joinpath(\"..\",\"OmicsData\", \"Genomics\")\n",
    "transcriptomicsbase = joinpath(\"..\", \"OmicsData\", \"Transcriptomics\")\n",
    "\n",
    "fungus = \"Neosp3\" # change this for each fungus\n",
    "uniprot = GSM.readuniprot(joinpath(uniprotbase,  \"uniprot-reviewed_yes.tab\")) # import Uniprot database"
   ]
  },
  {
   "cell_type": "code",
   "execution_count": 54,
   "metadata": {},
   "outputs": [
    {
     "data": {
      "text/plain": [
       "Dict{Any,Any} with 2761 entries:\n",
       "  \"1047874\" => \"3.1.3.43\"\n",
       "  \"1620923\" => \"3.6.3.8\"\n",
       "  \"1683640\" => \"6.3.2.19\"\n",
       "  \"1434712\" => \"3.4.24.-\"\n",
       "  \"1433424\" => \"3.5.3.4\"\n",
       "  \"1421468\" => \"2.7.7.7\"\n",
       "  \"1305814\" => \"3.2.1.51\"\n",
       "  \"1434448\" => \"2.3.2.5\"\n",
       "  \"1743837\" => \"3.4.24.56\"\n",
       "  \"1689749\" => \"6.3.2.19\"\n",
       "  \"1727594\" => \"2.3.1.9\"\n",
       "  \"1305965\" => \"2.6.1.2\"\n",
       "  \"84182\"   => \"1.2.1.12\"\n",
       "  \"1024431\" => \"4.6.1.1\"\n",
       "  \"1070066\" => \"6.3.2.19\"\n",
       "  \"1706103\" => \"3.1.4.11\"\n",
       "  \"1294756\" => \"2.7.1.107\"\n",
       "  \"1689833\" => \"6.3.2.19\"\n",
       "  \"1634555\" => \"2.4.1.16\"\n",
       "  \"1027070\" => \"3.5.2.9\"\n",
       "  \"1075216\" => \"3.4.25.1\"\n",
       "  \"1300847\" => \"4.2.2.2\"\n",
       "  \"1279593\" => \"2.4.2.14\"\n",
       "  \"1634035\" => \"3.4.21.61\"\n",
       "  \"1636030\" => \"6.3.2.19\"\n",
       "  ⋮         => ⋮"
      ]
     },
     "execution_count": 54,
     "metadata": {},
     "output_type": "execute_result"
    }
   ],
   "source": [
    "aafilename = [x for x in readdir(joinpath(genomicsbase, fungus)) if occursin(\".aa.\", x)][1]\n",
    "aaseqs = GSM.readall(joinpath(genomicsbase, fungus, aafilename), true)\n",
    "\n",
    "# Read gene <-> EC (kegg) file\n",
    "# protein ids => ec number\n",
    "ecfile = [path for path in readdir(joinpath(genomicsbase, fungus)) if occursin(\"_KEGG.tab\", path)][1] # JGI annotations\n",
    "ecdict = GSM.getECannos(joinpath(genomicsbase, fungus, ecfile)) # protein id => single EC"
   ]
  },
  {
   "cell_type": "code",
   "execution_count": 55,
   "metadata": {},
   "outputs": [
    {
     "data": {
      "text/plain": [
       "Dict{Any,Any} with 14361 entries:\n",
       "  \"1296960\" => SubString{String}[\"TRINITY_DN121_c1_g1_i2.p1\", \"TRINITY_DN121_c1…\n",
       "  \"1420380\" => SubString{String}[\"TRINITY_DN11528_c0_g2_i1.p1\", \"TRINITY_DN1152…\n",
       "  \"1659200\" => SubString{String}[\"TRINITY_DN978_c3_g1_i4.p1\"]\n",
       "  \"1297476\" => SubString{String}[\"TRINITY_DN1534_c2_g1_i1.p1\", \"TRINITY_DN4216_…\n",
       "  \"1727543\" => SubString{String}[\"TRINITY_DN1578_c0_g2_i1.p1\"]\n",
       "  \"1716928\" => SubString{String}[\"TRINITY_DN3881_c0_g1_i1.p1\", \"TRINITY_DN3881_…\n",
       "  \"1676042\" => SubString{String}[\"TRINITY_DN1891_c0_g2_i1.p1\"]\n",
       "  \"1693085\" => SubString{String}[\"TRINITY_DN350_c17_g1_i1.p1\"]\n",
       "  \"958981\"  => SubString{String}[\"TRINITY_DN1623_c0_g1_i1.p1\"]\n",
       "  \"206077\"  => SubString{String}[\"TRINITY_DN5183_c1_g1_i1.p1\"]\n",
       "  \"1024431\" => SubString{String}[\"TRINITY_DN1478_c1_g1_i2.p1\", \"TRINITY_DN3881_…\n",
       "  \"1070066\" => SubString{String}[\"TRINITY_DN1393_c0_g1_i1.p1\", \"TRINITY_DN1825_…\n",
       "  \"1305839\" => SubString{String}[\"TRINITY_DN20649_c0_g1_i1.p1\"]\n",
       "  \"1689833\" => SubString{String}[\"TRINITY_DN977_c2_g1_i1.p1\"]\n",
       "  \"1279593\" => SubString{String}[\"TRINITY_DN30024_c0_g1_i1.p1\", \"TRINITY_DN3036…\n",
       "  \"1322308\" => SubString{String}[\"TRINITY_DN125_c0_g1_i5.p1\"]\n",
       "  \"981845\"  => SubString{String}[\"TRINITY_DN6148_c0_g1_i1.p1\", \"TRINITY_DN6148_…\n",
       "  \"1338583\" => SubString{String}[\"TRINITY_DN13040_c1_g1_i1.p1\", \"TRINITY_DN1378…\n",
       "  \"1637688\" => SubString{String}[\"TRINITY_DN393_c0_g1_i2.p1\"]\n",
       "  \"1654242\" => SubString{String}[\"TRINITY_DN4743_c2_g1_i1.p1\"]\n",
       "  \"1295510\" => SubString{String}[\"TRINITY_DN35519_c0_g1_i1.p1\"]\n",
       "  \"1291716\" => SubString{String}[\"TRINITY_DN8460_c0_g1_i1.p1\"]\n",
       "  \"1671827\" => SubString{String}[\"TRINITY_DN1371_c0_g2_i1.p1\", \"TRINITY_DN1371_…\n",
       "  \"1269852\" => SubString{String}[\"TRINITY_DN393_c1_g2_i1.p1\"]\n",
       "  \"958785\"  => SubString{String}[\"TRINITY_DN488_c0_g1_i5.p1\"]\n",
       "  ⋮         => ⋮"
      ]
     },
     "execution_count": 55,
     "metadata": {},
     "output_type": "execute_result"
    }
   ],
   "source": [
    "# Read nucleotide blast output checking if transcript was detected (query = transcript, db = predicted genes) evalue & coverage criteria apply!\n",
    "# protein id => transcripts\n",
    "if fungus in [\"Anasp1\", \"Neosp1\", \"Pirfi3\", \"Caecom1\", \"Neosp3\"] # one directional hits i.e. is there some transcriptomic evidence?\n",
    "    transcriptomic_evidence = GSM.getTranscriptomicEvidence(joinpath(transcriptomicsbase, \"Results\", string(fungus, \".out\")))\n",
    "end"
   ]
  },
  {
   "cell_type": "code",
   "execution_count": 59,
   "metadata": {},
   "outputs": [
    {
     "data": {
      "text/plain": [
       "Dict{Any,Any} with 23508 entries:\n",
       "  \"TRINITY_DN3153_c4_g1\"  => 0.0\n",
       "  \"TRINITY_DN3309_c1_g1\"  => 4.42438\n",
       "  \"TRINITY_DN15616_c1_g2\" => 0.169714\n",
       "  \"TRINITY_DN2367_c5_g1\"  => 0.103633\n",
       "  \"TRINITY_DN1167_c0_g1\"  => 3.26975\n",
       "  \"TRINITY_DN3802_c1_g1\"  => 4.52767\n",
       "  \"TRINITY_DN23810_c0_g1\" => 10.2228\n",
       "  \"TRINITY_DN1041_c8_g1\"  => 0.415954\n",
       "  \"TRINITY_DN10849_c3_g1\" => 0.0634547\n",
       "  \"TRINITY_DN112_c0_g1\"   => 284.323\n",
       "  \"TRINITY_DN28886_c4_g2\" => 0.0841612\n",
       "  \"TRINITY_DN8875_c1_g1\"  => 0.672092\n",
       "  \"TRINITY_DN3091_c1_g1\"  => 0.970452\n",
       "  \"TRINITY_DN11853_c0_g2\" => 0.0977764\n",
       "  \"TRINITY_DN1840_c0_g1\"  => 6.56524\n",
       "  \"TRINITY_DN2489_c0_g2\"  => 1.36729\n",
       "  \"TRINITY_DN334_c1_g2\"   => 1.53306\n",
       "  \"TRINITY_DN58_c0_g2\"    => 7.36782\n",
       "  \"TRINITY_DN814_c3_g1\"   => 6.66907\n",
       "  \"TRINITY_DN26524_c1_g1\" => 1.14712\n",
       "  \"TRINITY_DN34547_c0_g1\" => 0.0\n",
       "  \"TRINITY_DN11790_c0_g1\" => 0.0998832\n",
       "  \"TRINITY_DN854_c2_g2\"   => 0.137639\n",
       "  \"TRINITY_DN3823_c1_g1\"  => 0.134434\n",
       "  \"TRINITY_DN15448_c0_g2\" => 0.0252932\n",
       "  ⋮                       => ⋮"
      ]
     },
     "execution_count": 59,
     "metadata": {},
     "output_type": "execute_result"
    }
   ],
   "source": [
    "# Get expression levels - only works for N. lanati (expression on cellobiose)\n",
    "if fungus == \"Neosp3\"\n",
    "    expdata_s3 = GSM.readexpressiondataS3(joinpath(\"..\", \"OmicsData\", \"Transcriptomics\", \"S3-de-novo-diffexp\", \"s3tpms.csv\"), \"M2\")\n",
    "end"
   ]
  },
  {
   "cell_type": "code",
   "execution_count": 57,
   "metadata": {},
   "outputs": [],
   "source": [
    "# # Read bidirectional blast output (predicted proteins <=> UNIPROT reviewed proteins) evalue cutoff applies\n",
    "fungus_to_uniprot_loc = joinpath(uniprotbase, \"Results\", string(fungus, \"_to_uni.out\"))\n",
    "uniprot_to_fungus_loc = joinpath(uniprotbase, \"Results\", string(\"uni_to_$(fungus).out\"))\n",
    "bidir = GSM.matchbidir(fungus_to_uniprot_loc, uniprot_to_fungus_loc, 1e-20, 11) # protein id => uniprot entry id # NB change to 11 => 3 for genome\n",
    "bidirdesc = Dict()\n",
    "for (k, v) in bidir\n",
    "    vlook = split(v, \"|\")[2] # remove for genome\n",
    "    bidirdesc[k] = uniprot[vlook] # change vlook > v for genome\n",
    "end"
   ]
  },
  {
   "cell_type": "code",
   "execution_count": 62,
   "metadata": {},
   "outputs": [],
   "source": [
    "# Write output to csv file => Master Metabolic Annotation tables\n",
    "open(joinpath(string(fungus, \".tab\")), \"w\") do f\n",
    "    if fungus == \"Neosp3\"\n",
    "        headings = [\"Protein ID\", \"Transcribed\", \"Expression [TPM]\", \"JGI EC\", \"Bidir EC\", \"Bidir Subunit\", \"Uniprot hit\"]\n",
    "    elseif fungus in [\"Anasp1\", \"Neosp1\", \"Pirfi3\", \"Caecom1\"]\n",
    "        headings = [\"Protein ID\", \"Transcribed\", \"JGI EC\", \"Bidir EC\", \"Bidir Subunit\", \"Uniprot hit\"]\n",
    "    else\n",
    "        headings = [\"Protein ID\", \"JGI EC\", \"Bidir EC\", \"Bidir Subunit\", \"Uniprot hit\"]\n",
    "    end\n",
    "    write(f, join(headings, \"\\t\"), \"\\n\")\n",
    "\n",
    "    for proteinid in keys(bidirdesc)\n",
    "        ec = get(ecdict, proteinid, \"\")\n",
    "        bidir_both = get(bidirdesc, proteinid, [\"\", \"\", \"\"])\n",
    "        bidir_ecs = bidir_both[2]\n",
    "        bidir_subunit = bidir_both[3]\n",
    "        desc = bidir_both[1]\n",
    "\n",
    "        if fungus in [\"Anasp1\", \"Neosp1\", \"Pirfi3\", \"Caecom1\", \"Neosp3\"]\n",
    "            transcripts = get(transcriptomic_evidence, proteinid, [])\n",
    "            if isempty(transcripts)\n",
    "                transcriptdetected = \"N\"\n",
    "            else\n",
    "                transcriptdetected = \"Y\"\n",
    "            end\n",
    "        end\n",
    "\n",
    "        if fungus == \"Neosp3\"\n",
    "            if haskey(transcriptomic_evidence, proteinid)\n",
    "                ts = String[]\n",
    "                for t in transcriptomic_evidence[proteinid]\n",
    "                    tid = join(split(t, \"_\")[1:end-1], \"_\")\n",
    "                    push!(ts, tid)\n",
    "                end\n",
    "                el = 0.0 # sum all isozymes\n",
    "                for t in unique(ts)\n",
    "                    el += get(expdata_s3, t, 0)\n",
    "                end\n",
    "                expressionlevel = string(el)\n",
    "            else\n",
    "                expressionlevel = \"\"\n",
    "            end\n",
    "            write(f, join([proteinid, transcriptdetected, expressionlevel, ec, bidir_ecs, bidir_subunit, desc], \"\\t\"), \"\\n\")\n",
    "        elseif fungus in [\"Anasp1\", \"Neosp1\", \"Pirfi3\", \"Caecom1\"]\n",
    "            write(f, join([proteinid, transcriptdetected, ec, bidir_ecs, bidir_subunit, desc], \"\\t\"), \"\\n\")\n",
    "        else\n",
    "            write(f, join([proteinid, ec, bidir_ecs, bidir_subunit, desc], \"\\t\"), \"\\n\")\n",
    "        end\n",
    "    end\n",
    "end"
   ]
  },
  {
   "cell_type": "code",
   "execution_count": null,
   "metadata": {},
   "outputs": [],
   "source": []
  },
  {
   "cell_type": "code",
   "execution_count": null,
   "metadata": {},
   "outputs": [],
   "source": []
  }
 ],
 "metadata": {
  "kernelspec": {
   "display_name": "Julia 1.5.0",
   "language": "julia",
   "name": "julia-1.5"
  },
  "language_info": {
   "file_extension": ".jl",
   "mimetype": "application/julia",
   "name": "julia",
   "version": "1.5.0"
  }
 },
 "nbformat": 4,
 "nbformat_minor": 4
}
