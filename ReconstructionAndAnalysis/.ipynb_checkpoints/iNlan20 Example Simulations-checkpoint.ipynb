{
 "cells": [
  {
   "cell_type": "code",
   "execution_count": 6,
   "metadata": {},
   "outputs": [],
   "source": [
    "import cobra\n",
    "from cobra import Model, Reaction, Metabolite\n",
    "import pandas\n",
    "import json\n",
    "import numpy as np\n",
    "import gurobipy\n",
    "\n",
    "modelloc = \"iNlan20.xml\" # input location of SBML model\n",
    "fbaloc = \"fluxes\\\\fbafluxes.json\" # output location of fba solution fluxes\n",
    "sampleloc = \"fluxes\\\\fluxsamples.json\" # output location of flux samples"
   ]
  },
  {
   "cell_type": "markdown",
   "metadata": {},
   "source": [
    "### Run the basic model\n",
    "This version of the model uses an iron hydrogenase (the base case). It is the default configuration of the model, both the bifurcating hydrogenase, and complex 1, 2 and ATP synthase modules are turned off. The default glucose feed is 1.5 mmol/gdw/h but can be changed by modifying \"EX_glc__D_e\"."
   ]
  },
  {
   "cell_type": "code",
   "execution_count": 7,
   "metadata": {},
   "outputs": [
    {
     "ename": "OSError",
     "evalue": "[Errno The file with 'filename' does not exist, or is not an SBML string. Provide the path to an existing SBML file or a valid SBML string representation: \n%s] iNlan20.xml",
     "output_type": "error",
     "traceback": [
      "\u001b[1;31m---------------------------------------------------------------------------\u001b[0m",
      "\u001b[1;31mOSError\u001b[0m                                   Traceback (most recent call last)",
      "\u001b[1;32m<ipython-input-7-3725ec53b391>\u001b[0m in \u001b[0;36m<module>\u001b[1;34m\u001b[0m\n\u001b[1;32m----> 1\u001b[1;33m \u001b[0mmodel\u001b[0m \u001b[1;33m=\u001b[0m \u001b[0mcobra\u001b[0m\u001b[1;33m.\u001b[0m\u001b[0mio\u001b[0m\u001b[1;33m.\u001b[0m\u001b[0mread_sbml_model\u001b[0m\u001b[1;33m(\u001b[0m\u001b[0mmodelloc\u001b[0m\u001b[1;33m)\u001b[0m\u001b[1;33m\u001b[0m\u001b[1;33m\u001b[0m\u001b[0m\n\u001b[0m\u001b[0;32m      2\u001b[0m \u001b[1;33m\u001b[0m\u001b[0m\n\u001b[0;32m      3\u001b[0m \u001b[0mfba_sol\u001b[0m \u001b[1;33m=\u001b[0m \u001b[0mmodel\u001b[0m\u001b[1;33m.\u001b[0m\u001b[0moptimize\u001b[0m\u001b[1;33m(\u001b[0m\u001b[1;33m)\u001b[0m\u001b[1;33m\u001b[0m\u001b[1;33m\u001b[0m\u001b[0m\n\u001b[0;32m      4\u001b[0m \u001b[0mfba_sol\u001b[0m\u001b[1;33m.\u001b[0m\u001b[0mfluxes\u001b[0m\u001b[1;33m.\u001b[0m\u001b[0mto_json\u001b[0m\u001b[1;33m(\u001b[0m\u001b[0mfbaloc\u001b[0m\u001b[1;33m)\u001b[0m\u001b[1;33m\u001b[0m\u001b[1;33m\u001b[0m\u001b[0m\n\u001b[0;32m      5\u001b[0m \u001b[1;33m\u001b[0m\u001b[0m\n",
      "\u001b[1;32mC:\\ProgramData\\Anaconda3\\lib\\site-packages\\cobra\\io\\sbml.py\u001b[0m in \u001b[0;36mread_sbml_model\u001b[1;34m(filename, number, f_replace, **kwargs)\u001b[0m\n\u001b[0;32m    251\u001b[0m         \u001b[1;32mreturn\u001b[0m \u001b[0m_sbml_to_model\u001b[0m\u001b[1;33m(\u001b[0m\u001b[0mdoc\u001b[0m\u001b[1;33m,\u001b[0m \u001b[0mnumber\u001b[0m\u001b[1;33m=\u001b[0m\u001b[0mnumber\u001b[0m\u001b[1;33m,\u001b[0m \u001b[0mf_replace\u001b[0m\u001b[1;33m=\u001b[0m\u001b[0mf_replace\u001b[0m\u001b[1;33m,\u001b[0m \u001b[1;33m**\u001b[0m\u001b[0mkwargs\u001b[0m\u001b[1;33m)\u001b[0m\u001b[1;33m\u001b[0m\u001b[1;33m\u001b[0m\u001b[0m\n\u001b[0;32m    252\u001b[0m     \u001b[1;32mexcept\u001b[0m \u001b[0mIOError\u001b[0m \u001b[1;32mas\u001b[0m \u001b[0me\u001b[0m\u001b[1;33m:\u001b[0m\u001b[1;33m\u001b[0m\u001b[1;33m\u001b[0m\u001b[0m\n\u001b[1;32m--> 253\u001b[1;33m         \u001b[1;32mraise\u001b[0m \u001b[0me\u001b[0m\u001b[1;33m\u001b[0m\u001b[1;33m\u001b[0m\u001b[0m\n\u001b[0m\u001b[0;32m    254\u001b[0m \u001b[1;33m\u001b[0m\u001b[0m\n\u001b[0;32m    255\u001b[0m     \u001b[1;32mexcept\u001b[0m \u001b[0mException\u001b[0m \u001b[1;32mas\u001b[0m \u001b[0moriginal_error\u001b[0m\u001b[1;33m:\u001b[0m\u001b[1;33m\u001b[0m\u001b[1;33m\u001b[0m\u001b[0m\n",
      "\u001b[1;32mC:\\ProgramData\\Anaconda3\\lib\\site-packages\\cobra\\io\\sbml.py\u001b[0m in \u001b[0;36mread_sbml_model\u001b[1;34m(filename, number, f_replace, **kwargs)\u001b[0m\n\u001b[0;32m    248\u001b[0m     \"\"\"\n\u001b[0;32m    249\u001b[0m     \u001b[1;32mtry\u001b[0m\u001b[1;33m:\u001b[0m\u001b[1;33m\u001b[0m\u001b[1;33m\u001b[0m\u001b[0m\n\u001b[1;32m--> 250\u001b[1;33m         \u001b[0mdoc\u001b[0m \u001b[1;33m=\u001b[0m \u001b[0m_get_doc_from_filename\u001b[0m\u001b[1;33m(\u001b[0m\u001b[0mfilename\u001b[0m\u001b[1;33m)\u001b[0m\u001b[1;33m\u001b[0m\u001b[1;33m\u001b[0m\u001b[0m\n\u001b[0m\u001b[0;32m    251\u001b[0m         \u001b[1;32mreturn\u001b[0m \u001b[0m_sbml_to_model\u001b[0m\u001b[1;33m(\u001b[0m\u001b[0mdoc\u001b[0m\u001b[1;33m,\u001b[0m \u001b[0mnumber\u001b[0m\u001b[1;33m=\u001b[0m\u001b[0mnumber\u001b[0m\u001b[1;33m,\u001b[0m \u001b[0mf_replace\u001b[0m\u001b[1;33m=\u001b[0m\u001b[0mf_replace\u001b[0m\u001b[1;33m,\u001b[0m \u001b[1;33m**\u001b[0m\u001b[0mkwargs\u001b[0m\u001b[1;33m)\u001b[0m\u001b[1;33m\u001b[0m\u001b[1;33m\u001b[0m\u001b[0m\n\u001b[0;32m    252\u001b[0m     \u001b[1;32mexcept\u001b[0m \u001b[0mIOError\u001b[0m \u001b[1;32mas\u001b[0m \u001b[0me\u001b[0m\u001b[1;33m:\u001b[0m\u001b[1;33m\u001b[0m\u001b[1;33m\u001b[0m\u001b[0m\n",
      "\u001b[1;32mC:\\ProgramData\\Anaconda3\\lib\\site-packages\\cobra\\io\\sbml.py\u001b[0m in \u001b[0;36m_get_doc_from_filename\u001b[1;34m(filename)\u001b[0m\n\u001b[0;32m    291\u001b[0m             \u001b[1;31m# string representation\u001b[0m\u001b[1;33m\u001b[0m\u001b[1;33m\u001b[0m\u001b[1;33m\u001b[0m\u001b[0m\n\u001b[0;32m    292\u001b[0m             \u001b[1;32mif\u001b[0m \u001b[1;34m\"<sbml\"\u001b[0m \u001b[1;32mnot\u001b[0m \u001b[1;32min\u001b[0m \u001b[0mfilename\u001b[0m\u001b[1;33m:\u001b[0m\u001b[1;33m\u001b[0m\u001b[1;33m\u001b[0m\u001b[0m\n\u001b[1;32m--> 293\u001b[1;33m                 raise IOError(\n\u001b[0m\u001b[0;32m    294\u001b[0m                     \u001b[1;34m\"The file with 'filename' does not exist, \"\u001b[0m\u001b[1;33m\u001b[0m\u001b[1;33m\u001b[0m\u001b[0m\n\u001b[0;32m    295\u001b[0m                     \u001b[1;34m\"or is not an SBML string. Provide the path to \"\u001b[0m\u001b[1;33m\u001b[0m\u001b[1;33m\u001b[0m\u001b[0m\n",
      "\u001b[1;31mOSError\u001b[0m: [Errno The file with 'filename' does not exist, or is not an SBML string. Provide the path to an existing SBML file or a valid SBML string representation: \n%s] iNlan20.xml"
     ]
    }
   ],
   "source": [
    "model = cobra.io.read_sbml_model(modelloc)\n",
    "model.solver = \"gurobi\"\n",
    "\n",
    "fba_sol = model.optimize()\n",
    "fba_sol.fluxes.to_json(fbaloc)\n",
    "\n",
    "model.summary()"
   ]
  },
  {
   "cell_type": "markdown",
   "metadata": {},
   "source": [
    "### Run the model using the bifurcating hydrogenase\n",
    "This version of the model uses the bifurcating hydrogenase instead of the iron hydrogenase."
   ]
  },
  {
   "cell_type": "code",
   "execution_count": null,
   "metadata": {},
   "outputs": [],
   "source": [
    "model = cobra.io.read_sbml_model(modelloc)\n",
    "model.solver = \"gurobi\"\n",
    "\n",
    "\n",
    "# turn the bifurcating hydrogenase on\n",
    "rxn = model.reactions.get_by_id(\"HYDhbi\")\n",
    "rxn.lower_bound = 0\n",
    "rxn.upper_bound = 1000\n",
    "\n",
    "# turn the iron hydrogenase off\n",
    "rxn = model.reactions.get_by_id(\"HYDhfe\")\n",
    "rxn.lower_bound = 0\n",
    "rxn.upper_bound = 0\n",
    "\n",
    "fba_sol = model.optimize()\n",
    "fba_sol.fluxes.to_json(fbaloc)\n",
    "\n",
    "model.summary()"
   ]
  },
  {
   "cell_type": "markdown",
   "metadata": {},
   "source": [
    "### Run the model using complex 1 and 2, and the ATP synthase\n",
    "This version of the model makes use of a proton motive force to generate ATP"
   ]
  },
  {
   "cell_type": "code",
   "execution_count": null,
   "metadata": {},
   "outputs": [],
   "source": [
    "model = cobra.io.read_sbml_model(modelloc)\n",
    "model.solver = \"gurobi\"\n",
    "\n",
    "# Activate the proton pumping machinery \n",
    "rxn = model.reactions.get_by_id(\"CMPL1h\")\n",
    "rxn.lower_bound = -1000\n",
    "rxn.upper_bound = 1000\n",
    "\n",
    "rxn = model.reactions.get_by_id(\"CMPL2h\")\n",
    "rxn.lower_bound = -1000\n",
    "rxn.upper_bound = 1000\n",
    "\n",
    "rxn = model.reactions.get_by_id(\"FUMh\")\n",
    "rxn.lower_bound = -1000\n",
    "rxn.upper_bound = 1000\n",
    "\n",
    "rxn = model.reactions.get_by_id(\"ATPShydr\")\n",
    "rxn.lower_bound = 0\n",
    "rxn.upper_bound = 1000\n",
    "\n",
    "fba_sol = model.optimize()\n",
    "fba_sol.fluxes.to_json(fbaloc)\n",
    "\n",
    "model.summary()"
   ]
  },
  {
   "cell_type": "markdown",
   "metadata": {},
   "source": [
    "### Run base case model using lignocellulose as a substrate\n",
    "Lignocellulose is a complex biopolymer composed of cellulose, hemicellulose and lignin. This model contains two reactions, `r_cellulase` and `r_hemicellulase` (associated with 233 and 310 genes respectively, of which 451 are unique, see `OmicsData\\Cazymes` for the classification rules used to define hemicelluase and cellulase genes in the model). The input fluxes used here are arbitrary since it is very hard to measure the breakout products, and their fluxes into the gut fungus in vivo. However, these reactions qualitatively demonstrate that the model can grow on lignocellulose."
   ]
  },
  {
   "cell_type": "code",
   "execution_count": null,
   "metadata": {},
   "outputs": [],
   "source": [
    "model = cobra.io.read_sbml_model(modelloc)\n",
    "model.solver = \"gurobi\"\n",
    "\n",
    "# Switch the glucose exchange off\n",
    "glc_ex = model.reactions.get_by_id(\"EX_glc__D_e\")\n",
    "glc_ex.lower_bound = 0\n",
    "glc_ex.upper_bound = 0\n",
    "\n",
    "\n",
    "# Metabolize cellulose\n",
    "cc_ex = model.reactions.get_by_id(\"EX_cellulose_e\")\n",
    "cc_ex.lower_bound = -0.5\n",
    "cc_ex.upper_bound = -0.5\n",
    "\n",
    "# Metabolize hemicellulose\n",
    "hc_ex = model.reactions.get_by_id(\"EX_hemicellulose_e\")\n",
    "hc_ex.lower_bound = -0.25\n",
    "hc_ex.upper_bound = -0.25\n",
    "\n",
    "\n",
    "\n",
    "fba_sol = model.optimize()\n",
    "fba_sol.fluxes.to_json(fbaloc)\n",
    "\n",
    "model.summary()"
   ]
  },
  {
   "cell_type": "markdown",
   "metadata": {},
   "source": [
    "### Redox analysis\n",
    "Evaluate the effect of the bifurcating hydrogenase on the regeneration of NAD."
   ]
  },
  {
   "cell_type": "code",
   "execution_count": null,
   "metadata": {},
   "outputs": [],
   "source": [
    "model = cobra.io.read_sbml_model(modelloc)\n",
    "model.solver = \"gurobi\"\n",
    "\n",
    "pba_sol = cobra.flux_analysis.pfba(model)\n",
    "model.metabolites.nad_c.summary() # Iron hydrogenase only"
   ]
  },
  {
   "cell_type": "code",
   "execution_count": null,
   "metadata": {},
   "outputs": [],
   "source": [
    "rxn = model.reactions.get_by_id(\"HYDhbi\")\n",
    "rxn.lower_bound = 0\n",
    "rxn.upper_bound = 1000\n",
    "\n",
    "rxn = model.reactions.get_by_id(\"HYDhfe\")\n",
    "rxn.lower_bound = 0\n",
    "rxn.upper_bound = 0\n",
    "\n",
    "pba_sol = cobra.flux_analysis.pfba(model)\n",
    "model.metabolites.nad_c.summary() # Bifurcating hydrogenase \n",
    "#Note: MASh is the putative asparate malate shuttle that transports NAD between the cytosol and the hydrogenosome."
   ]
  },
  {
   "cell_type": "code",
   "execution_count": null,
   "metadata": {},
   "outputs": [],
   "source": [
    "model.metabolites.nad_h.summary() # hydrogenosome"
   ]
  },
  {
   "cell_type": "markdown",
   "metadata": {},
   "source": [
    "### Flux variability analysis"
   ]
  },
  {
   "cell_type": "code",
   "execution_count": null,
   "metadata": {},
   "outputs": [],
   "source": [
    "model = cobra.io.read_sbml_model(modelloc)\n",
    "model.solver = \"gurobi\"\n",
    "\n",
    "fba_sol = model.optimize()\n",
    "model.summary(fva=0.9)"
   ]
  },
  {
   "cell_type": "markdown",
   "metadata": {},
   "source": [
    "### Sampling\n",
    "Comment constraints as required."
   ]
  },
  {
   "cell_type": "code",
   "execution_count": null,
   "metadata": {},
   "outputs": [],
   "source": [
    "model = cobra.io.read_sbml_model(modelloc)\n",
    "model.solver = \"gurobi\"\n",
    "\n",
    "## Experimentally measured fluxes of various metabolites (un)comment to further constrain the model\n",
    "h2_ex = model.reactions.get_by_id(\"EX_h2_e\")\n",
    "h2_ex.lower_bound = 0.047483008\n",
    "h2_ex.upper_bound = 0.189248895\n",
    "\n",
    "h2_ex = model.reactions.get_by_id(\"EX_lac__D_e\")\n",
    "h2_ex.lower_bound = 0.716237324\n",
    "h2_ex.upper_bound = 1.08919967\n",
    "\n",
    "h2_ex = model.reactions.get_by_id(\"EX_for_e\")\n",
    "h2_ex.lower_bound = 1.087540278\n",
    "h2_ex.upper_bound = 1.793056312\n",
    "\n",
    "h2_ex = model.reactions.get_by_id(\"EX_etoh_e\")\n",
    "h2_ex.lower_bound = 0.472808257\n",
    "h2_ex.upper_bound = 1.013514567\n",
    "\n",
    "h2_ex = model.reactions.get_by_id(\"EX_ac_e\")\n",
    "h2_ex.lower_bound = 0.423987759\n",
    "h2_ex.upper_bound = 0.711876893\n",
    "\n",
    "h2_ex = model.reactions.get_by_id(\"EX_succ_e\")\n",
    "h2_ex.lower_bound = 0.02143\n",
    "h2_ex.upper_bound = 0.04529\n",
    "\n",
    "fba_sol = model.optimize()\n",
    "\n",
    "mu = fba_sol.fluxes[\"Biomass\"]\n",
    "bm_rxn = model.reactions.get_by_id('Biomass')\n",
    "mu_cons = model.problem.Constraint(bm_rxn.flux_expression, lb = 0.90*mu, ub=mu)\n",
    "model.add_cons_vars(mu_cons)\n",
    "s = cobra.sampling.sample(model, 2000, method=\"achr\")\n",
    "s.to_json(sampleloc)"
   ]
  },
  {
   "cell_type": "code",
   "execution_count": null,
   "metadata": {},
   "outputs": [],
   "source": []
  },
  {
   "cell_type": "code",
   "execution_count": null,
   "metadata": {},
   "outputs": [],
   "source": []
  },
  {
   "cell_type": "code",
   "execution_count": null,
   "metadata": {},
   "outputs": [],
   "source": []
  }
 ],
 "metadata": {
  "kernelspec": {
   "display_name": "Python 3",
   "language": "python",
   "name": "python3"
  },
  "language_info": {
   "codemirror_mode": {
    "name": "ipython",
    "version": 3
   },
   "file_extension": ".py",
   "mimetype": "text/x-python",
   "name": "python",
   "nbconvert_exporter": "python",
   "pygments_lexer": "ipython3",
   "version": "3.8.3"
  }
 },
 "nbformat": 4,
 "nbformat_minor": 2
}
