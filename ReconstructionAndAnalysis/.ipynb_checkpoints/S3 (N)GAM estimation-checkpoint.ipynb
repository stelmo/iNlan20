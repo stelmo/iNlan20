{
 "cells": [
  {
   "cell_type": "code",
   "execution_count": 1,
   "metadata": {},
   "outputs": [],
   "source": [
    "import cobra\n",
    "import os"
   ]
  },
  {
   "cell_type": "code",
   "execution_count": 7,
   "metadata": {},
   "outputs": [],
   "source": [
    "model = cobra.io.read_sbml_model(\"iNlan20.xml\")"
   ]
  },
  {
   "cell_type": "code",
   "execution_count": 8,
   "metadata": {},
   "outputs": [],
   "source": [
    "ngam = model.reactions.get_by_id(\"NGAM\")\n",
    "ngam.lower_bound = 0.0\n",
    "ngam.upper_bound = 1000.0\n",
    "model.objective = \"NGAM\"\n",
    "\n",
    "bm = model.reactions.get_by_id(\"Biomass\")\n",
    "bm.lower_bound = 0.0\n",
    "bm.upper_bound = 0.0\n",
    "\n",
    "glc_ex = model.reactions.get_by_id(\"EX_glc__D_e\")\n",
    "glc_ex.lower_bound = -1000.0\n",
    "glc_ex.upper_bound = 0.0"
   ]
  },
  {
   "cell_type": "code",
   "execution_count": 9,
   "metadata": {},
   "outputs": [],
   "source": [
    "# Succ, Lac, Etoh, For, Ac, H2\n",
    "rawconds = \"\"\"0.149240659,0.500882734,0.512762725,1.361016315,0.584497317,0.020431967\n",
    "0.075433989,0.672127204,0.747466998,2.259138269,0.791006371,-0.035290872\n",
    "0.08010541,0.537229342,0.490245532,1.509378492,0.534411183,0.024265159\n",
    "0.070159123,0.700726398,0.642112142,1.094418468,0.410949675,0.073930321\n",
    "-0.010557358,0.462444033,0.712938614,1.531916076,0.52831517,0.072799548\n",
    "0.061536935,0.653299996,0.803476386,1.407170482,0.546023758,0.095050321\n",
    "0.042224127,1.044115768,0.625114613,1.70629013,0.609273119,-0.021759096\n",
    "0.088853923,1.075190756,0.400634223,1.655361636,0.669789518,0.042201496\n",
    "0.091731747,1.235445297,0.784509704,1.930689229,0.718305428,0.172530304\n",
    "0.034692085,1.283893491,0.690408698,2.042499417,0.740415529,0.094190977\n",
    "0.036896768,0.366443786,0.887091521,1.106537832,0.617501268,0.062937251\n",
    "0.047443014,0.606690728,0.808416176,1.313196622,0.534678812,-0.061082732\n",
    "0.042524495,0.855595969,0.981216816,1.573925249,0.584447886,0.050090017\n",
    "0.049167976,0.982870104,1.001985341,1.693833094,0.602066571,0.08366254\n",
    "0.081722453,1.095700491,0.916169793,1.653618059,0.811903934,-0.026792415\"\"\"\n",
    "conds_str = [x.split(\",\") for x in rawconds.split(\"\\n\")]\n",
    "conds = []\n",
    "for l in conds_str:\n",
    "    t = []\n",
    "    for ll in l:\n",
    "        t += [abs(float(ll))]\n",
    "    conds += [t]"
   ]
  },
  {
   "cell_type": "code",
   "execution_count": 10,
   "metadata": {
    "scrolled": false
   },
   "outputs": [
    {
     "name": "stdout",
     "output_type": "stream",
     "text": [
      "2.263\n",
      "3.052\n",
      "2.15\n",
      "2.227\n",
      "2.243\n",
      "2.61\n",
      "2.93\n",
      "2.602\n",
      "3.526\n",
      "3.475\n",
      "2.506\n",
      "2.523\n",
      "3.038\n",
      "3.238\n",
      "3.717\n"
     ]
    }
   ],
   "source": [
    "for c in [0,1,2,3,4,5,6,7,8,9,10,11,12,13,14]:\n",
    "    for bterm in [0.0, 0.05, 0.1, 0.15, 0.2, 0.25, 0.3, 0.35, 0.4, 0.45, 0.5, 0.55]:\n",
    "        upperboundmultbase = 1.0 + bterm\n",
    "        lowerboundmultbase = 1.0\n",
    "        mu = -1.0\n",
    "        glcex = -1000\n",
    "        for lowermultbasenum in [0.0, 0.05, 0.1, 0.15, 0.2, 0.25, 0.3, 0.35, 0.4, 0.45, 0.5, 0.55, 0.6, 0.65, 0.75, 0.8, 0.9, 1.0]:\n",
    "            lowerboundmultbase = 1.0 - lowermultbasenum \n",
    "\n",
    "            succ_ex = model.reactions.get_by_id(\"EX_succ_e\")\n",
    "            succ_bound = conds[c][0]\n",
    "            succ_ex.lower_bound = lowerboundmultbase*succ_bound\n",
    "            succ_ex.upper_bound = upperboundmultbase*succ_bound\n",
    "\n",
    "            lac_ex = model.reactions.get_by_id(\"EX_lac__D_e\")\n",
    "            lac_bound = conds[c][1]\n",
    "            lac_ex.lower_bound = lowerboundmultbase*lac_bound\n",
    "            lac_ex.upper_bound = upperboundmultbase*lac_bound\n",
    "\n",
    "            etoh_ex = model.reactions.get_by_id(\"EX_etoh_e\")\n",
    "            etoh_bound = conds[c][2]\n",
    "            etoh_ex.lower_bound = lowerboundmultbase*etoh_bound\n",
    "            etoh_ex.upper_bound = upperboundmultbase*etoh_bound\n",
    "\n",
    "            for_ex = model.reactions.get_by_id(\"EX_for_e\")\n",
    "            for_bound = conds[c][3]\n",
    "            for_ex.lower_bound = lowerboundmultbase*for_bound\n",
    "            for_ex.upper_bound = upperboundmultbase*for_bound\n",
    "\n",
    "            ac_ex = model.reactions.get_by_id(\"EX_ac_e\")\n",
    "            ac_bound = conds[c][4]\n",
    "            ac_ex.lower_bound = lowerboundmultbase*ac_bound\n",
    "            ac_ex.upper_bound = upperboundmultbase*ac_bound\n",
    "\n",
    "            h2_ex = model.reactions.get_by_id(\"EX_h2_e\")\n",
    "            h2_bound = conds[c][5]\n",
    "            h2_ex.lower_bound = lowerboundmultbase*h2_bound\n",
    "            h2_ex.upper_bound = upperboundmultbase*h2_bound\n",
    "\n",
    "            sol = model.optimize()\n",
    "            if sol.status == \"optimal\":\n",
    "                glcex = sol.fluxes[\"EX_glc__D_e\"]\n",
    "                mu = sol.objective_value\n",
    "                break\n",
    "        if mu > 0:\n",
    "            print(str(round(mu,3))) #+ \"\\t\" + str(c) + \"\\t\" + str(upperboundmultbase)+ \"\\t\" + str(lowerboundmultbase) + \"\\t\" + str(round(glcex,2))\n",
    "            break\n",
    "        \n",
    "    "
   ]
  },
  {
   "cell_type": "code",
   "execution_count": null,
   "metadata": {},
   "outputs": [],
   "source": []
  },
  {
   "cell_type": "code",
   "execution_count": null,
   "metadata": {},
   "outputs": [],
   "source": []
  },
  {
   "cell_type": "code",
   "execution_count": null,
   "metadata": {},
   "outputs": [],
   "source": []
  },
  {
   "cell_type": "code",
   "execution_count": null,
   "metadata": {},
   "outputs": [],
   "source": []
  }
 ],
 "metadata": {
  "kernelspec": {
   "display_name": "Python 3",
   "language": "python",
   "name": "python3"
  },
  "language_info": {
   "codemirror_mode": {
    "name": "ipython",
    "version": 3
   },
   "file_extension": ".py",
   "mimetype": "text/x-python",
   "name": "python",
   "nbconvert_exporter": "python",
   "pygments_lexer": "ipython3",
   "version": "3.8.3"
  }
 },
 "nbformat": 4,
 "nbformat_minor": 2
}
