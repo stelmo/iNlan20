{
 "cells": [
  {
   "cell_type": "code",
   "execution_count": 1,
   "metadata": {},
   "outputs": [
    {
     "data": {
      "text/html": [
       "<script>\n",
       "// Immediately-invoked-function-expression to avoid global variables.\n",
       "(function() {\n",
       "    var warning_div = document.getElementById(\"webio-warning-12161670943081146468\");\n",
       "    var hide = function () {\n",
       "        var script = document.getElementById(\"webio-setup-7245109408586164095\");\n",
       "        var parent = script && script.parentElement;\n",
       "        var grandparent = parent && parent.parentElement;\n",
       "        if (grandparent) {\n",
       "            grandparent.style.display = \"none\";\n",
       "        }\n",
       "        warning_div.style.display = \"none\";\n",
       "    };\n",
       "    if (typeof Jupyter !== \"undefined\") {\n",
       "        console.log(\"WebIO detected Jupyter notebook environment.\");\n",
       "        // Jupyter notebook.\n",
       "        var extensions = (\n",
       "            Jupyter\n",
       "            && Jupyter.notebook.config.data\n",
       "            && Jupyter.notebook.config.data.load_extensions\n",
       "        );\n",
       "        if (extensions && extensions[\"webio-jupyter-notebook\"]) {\n",
       "            // Extension already loaded.\n",
       "            console.log(\"Jupyter WebIO nbextension detected; not loading ad-hoc.\");\n",
       "            hide();\n",
       "            return;\n",
       "        }\n",
       "    } else if (window.location.pathname.includes(\"/lab\")) {\n",
       "        // Guessing JupyterLa\n",
       "        console.log(\"Jupyter Lab detected; make sure the @webio/jupyter-lab-provider labextension is installed.\");\n",
       "        hide();\n",
       "        return;\n",
       "    }\n",
       "})();\n",
       "\n",
       "</script>\n",
       "<p\n",
       "    id=\"webio-warning-12161670943081146468\"\n",
       "    class=\"output_text output_stderr\"\n",
       "    style=\"padding: 1em; font-weight: bold;\"\n",
       ">\n",
       "    Unable to load WebIO. Please make sure WebIO works for your Jupyter client.\n",
       "    For troubleshooting, please see <a href=\"https://juliagizmos.github.io/WebIO.jl/latest/providers/ijulia/\">\n",
       "    the WebIO/IJulia documentation</a>.\n",
       "    <!-- TODO: link to installation docs. -->\n",
       "</p>\n"
      ],
      "text/plain": [
       "HTML{String}(\"<script>\\n// Immediately-invoked-function-expression to avoid global variables.\\n(function() {\\n    var warning_div = document.getElementById(\\\"webio-warning-12161670943081146468\\\");\\n    var hide = function () {\\n        var script = document.getElementById(\\\"webio-setup-7245109408586164095\\\");\\n        var parent = script && script.parentElement;\\n        var grandparent = parent && parent.parentElement;\\n        if (grandparent) {\\n            grandparent.style.display = \\\"none\\\";\\n        }\\n        warning_div.style.display = \\\"none\\\";\\n    };\\n    if (typeof Jupyter !== \\\"undefined\\\") {\\n        console.log(\\\"WebIO detected Jupyter notebook environment.\\\");\\n        // Jupyter notebook.\\n        var extensions = (\\n            Jupyter\\n            && Jupyter.notebook.config.data\\n            && Jupyter.notebook.config.data.load_extensions\\n        );\\n        if (extensions && extensions[\\\"webio-jupyter-notebook\\\"]) {\\n            // Extension already loaded.\\n            console.log(\\\"Jupyter WebIO nbextension detected; not loading ad-hoc.\\\");\\n            hide();\\n            return;\\n        }\\n    } else if (window.location.pathname.includes(\\\"/lab\\\")) {\\n        // Guessing JupyterLa\\n        console.log(\\\"Jupyter Lab detected; make sure the @webio/jupyter-lab-provider labextension is installed.\\\");\\n        hide();\\n        return;\\n    }\\n})();\\n\\n</script>\\n<p\\n    id=\\\"webio-warning-12161670943081146468\\\"\\n    class=\\\"output_text output_stderr\\\"\\n    style=\\\"padding: 1em; font-weight: bold;\\\"\\n>\\n    Unable to load WebIO. Please make sure WebIO works for your Jupyter client.\\n    For troubleshooting, please see <a href=\\\"https://juliagizmos.github.io/WebIO.jl/latest/providers/ijulia/\\\">\\n    the WebIO/IJulia documentation</a>.\\n    <!-- TODO: link to installation docs. -->\\n</p>\\n\")"
      ]
     },
     "metadata": {},
     "output_type": "display_data"
    },
    {
     "data": {
      "text/plain": [
       "Plots.PlotlyJSBackend()"
      ]
     },
     "execution_count": 1,
     "metadata": {},
     "output_type": "execute_result"
    }
   ],
   "source": [
    "using Plots\n",
    "using StatsPlots\n",
    "using DataFrames\n",
    "using JSON\n",
    "font = Plots.font(\"Serif\", 18)\n",
    "plotlyjs(guidefont=font, xtickfont=font, ytickfont=font, legendfont=font)"
   ]
  },
  {
   "cell_type": "code",
   "execution_count": 17,
   "metadata": {},
   "outputs": [
    {
     "data": {
      "image/png": "[encoded data removed]"
     },
     "execution_count": 17,
     "metadata": {},
     "output_type": "execute_result"
    }
   ],
   "source": [
    "# PFL vs PFO\n",
    "function getratio(fluxes)\n",
    "    rs = Float64[]\n",
    "    for (k, v) in fluxes[\"EX_for_e\"]\n",
    "        formate = fluxes[\"EX_for_e\"][k]\n",
    "        acetate = fluxes[\"EX_ac_e\"][k]\n",
    "        ethanol = fluxes[\"EX_etoh_e\"][k]\n",
    "        r = formate/(acetate + ethanol)\n",
    "        push!(rs, r)\n",
    "    end\n",
    "    return rs\n",
    "end\n",
    "\n",
    "unconfluxes = JSON.parsefile(joinpath(\"fluxes\", \"unconstrained_fluxsamples.json\"))\n",
    "confluxes = JSON.parsefile(joinpath(\"fluxes\", \"experimental_constrained_fluxsamples.json\"))\n",
    "unconratio = getratio(unconfluxes)\n",
    "conratio = getratio(confluxes)\n",
    "df = DataFrame(Value=[conratio; unconratio], Condition=repeat([\"Constrained\", \"Unconstrained\"], inner=length(conratio)))\n",
    "\n",
    "@df df boxplot(string.(:Condition), :Value, legend=false, xlabel=\"Condition\", ylabel=\"Flux ratio\")\n",
    "# savefig(\"pfo_vs_pfl\") # save the most recent fig as fn\n"
   ]
  },
  {
   "cell_type": "code",
   "execution_count": 23,
   "metadata": {},
   "outputs": [
    {
     "name": "stderr",
     "output_type": "stream",
     "text": [
      "WARNING: both PlotlyJS and StatsPlots export \"savefig\"; uses of it in module Main must be qualified\n"
     ]
    },
    {
     "ename": "LoadError",
     "evalue": "UndefVarError: savefig not defined",
     "output_type": "error",
     "traceback": [
      "UndefVarError: savefig not defined",
      "",
      "Stacktrace:",
      " [1] top-level scope at In[23]:4",
      " [2] include_string(::Function, ::Module, ::String, ::String) at .\\loading.jl:1091"
     ]
    }
   ],
   "source": [
    "x = [\"Cytosol\"]\n",
    "y = [1.0]\n",
    "pie(x, y, l = 0.5, legend=:outerbottomleft)\n",
    "savefig(\"nad1\") # save the most recent fig as fn"
   ]
  },
  {
   "cell_type": "code",
   "execution_count": null,
   "metadata": {},
   "outputs": [],
   "source": [
    "x = [\"Cytosol\", \"Hydrogenosome\"]\n",
    "y = [1.0 - 0.6224, 0.6224]\n",
    "pie(x, y, l = 0.5, legend=:outerbottomleft)\n",
    "savefig(\"nad2\") # save the most recent fig as fn"
   ]
  },
  {
   "cell_type": "code",
   "execution_count": null,
   "metadata": {},
   "outputs": [],
   "source": [
    "x = [\"Glycolysis\", \"Hydrogenosome\"]\n",
    "y = [0.87, 0.13]\n",
    "pie(x, y, l = 0.5, legend=:outerbottomleft)\n",
    "savefig(\"atp1\") # save the most recent fig as fn"
   ]
  },
  {
   "cell_type": "code",
   "execution_count": null,
   "metadata": {},
   "outputs": [],
   "source": [
    "x = [\"Glycolysis\", \"Hydrogenosome\"]\n",
    "y = [0.8, 0.2]\n",
    "pie(x, y, l = 0.5, legend=:outerbottomleft)\n",
    "savefig(\"atp2\") # save the most recent fig as fn"
   ]
  },
  {
   "cell_type": "code",
   "execution_count": null,
   "metadata": {},
   "outputs": [],
   "source": [
    "x = [\"Glycolysis\", \"Hydrogenosome\", \"ATP synthase\"]\n",
    "y = [0.87, 0.10, 0.03]\n",
    "pie(x, y, l = 0.5, legend=:outerbottomleft)\n",
    "savefig(\"atp3\") # save the most recent fig as fn"
   ]
  }
 ],
 "metadata": {
  "kernelspec": {
   "display_name": "Julia 1.5.0",
   "language": "julia",
   "name": "julia-1.5"
  },
  "language_info": {
   "file_extension": ".jl",
   "mimetype": "application/julia",
   "name": "julia",
   "version": "1.5.0"
  }
 },
 "nbformat": 4,
 "nbformat_minor": 4
}
